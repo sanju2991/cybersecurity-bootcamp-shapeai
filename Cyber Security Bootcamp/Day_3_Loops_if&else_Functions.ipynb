{
  "nbformat": 4,
  "nbformat_minor": 0,
  "metadata": {
    "colab": {
      "name": "Untitled2.ipynb",
      "provenance": []
    },
    "kernelspec": {
      "name": "python3",
      "display_name": "Python 3"
    },
    "language_info": {
      "name": "python"
    }
  },
  "cells": [
    {
      "cell_type": "markdown",
      "metadata": {
        "id": "hL8EFOTOASsj"
      },
      "source": [
        "\n",
        "# **Control Flow:**\n",
        "**Welcome to this lesson on Control Flow! Control flow is the sequence in which your code is run helping you in decision making.Here, we'll learn about several tools in Python we can use to affect our code's control flow:**\n",
        "\n",
        "* Conditional Statements\n",
        "* Boolean Expressions\n",
        "* For and While Loops\n",
        "* Break and Continue\n",
        "* Zip and Enumerate\n",
        "* List Comprehensions\n",
        "\n",
        "**Comparisons operators:**\n",
        "\n",
        "* Equal: ==\n",
        "* Not Equal: !=\n",
        "* Greater than: >\n",
        "* Less than: <\n",
        "* Greater or equal: >=\n",
        "* Less or equal: <=\n",
        "* Object Identity: is - Checks weather two elements are same object and memory"
      ]
    },
    {
      "cell_type": "code",
      "metadata": {
        "colab": {
          "base_uri": "https://localhost:8080/"
        },
        "id": "08IpSER0AftT",
        "outputId": "8d5df73b-5ad4-401a-b152-3150fa172eda"
      },
      "source": [
        "lang = 'Java'\n",
        "\n",
        "if lang == 'Python':\n",
        "    print('Language is Python')\n",
        "elif lang == 'Java':\n",
        "    print('Language is Java')\n",
        "else:\n",
        "    print('No match')"
      ],
      "execution_count": 1,
      "outputs": [
        {
          "output_type": "stream",
          "text": [
            "Language is Java\n"
          ],
          "name": "stdout"
        }
      ]
    },
    {
      "cell_type": "code",
      "metadata": {
        "colab": {
          "base_uri": "https://localhost:8080/"
        },
        "id": "KOC9BrZ5BWx6",
        "outputId": "2b9ad3ad-be5e-4640-924e-cda9218a9ea0"
      },
      "source": [
        "#and,or & not:\n",
        "\n",
        "user = 'Admin'\n",
        "logged_in = False\n",
        "\n",
        "if user == 'Admin' and logged_in:\n",
        "    print('Admin page')\n",
        "else:\n",
        "    print('Bad creds')"
      ],
      "execution_count": 2,
      "outputs": [
        {
          "output_type": "stream",
          "text": [
            "Bad creds\n"
          ],
          "name": "stdout"
        }
      ]
    },
    {
      "cell_type": "code",
      "metadata": {
        "colab": {
          "base_uri": "https://localhost:8080/"
        },
        "id": "9Pgj5FvdBc_c",
        "outputId": "58468d36-3b31-4396-ee0a-4989834e2515"
      },
      "source": [
        "user = 'Admin'\n",
        "logged_in = True\n",
        "\n",
        "if user == 'Admin' or logged_in:\n",
        "    print('Admin page')\n",
        "else:\n",
        "    print('Bad creds')"
      ],
      "execution_count": 3,
      "outputs": [
        {
          "output_type": "stream",
          "text": [
            "Admin page\n"
          ],
          "name": "stdout"
        }
      ]
    },
    {
      "cell_type": "code",
      "metadata": {
        "colab": {
          "base_uri": "https://localhost:8080/"
        },
        "id": "N2GHHK09BjZk",
        "outputId": "52863dcf-bb0a-43e5-c283-42fbd6566920"
      },
      "source": [
        "a = [1,2,3]\n",
        "b = [1,2,3]\n",
        "\n",
        "print(a == b)"
      ],
      "execution_count": 4,
      "outputs": [
        {
          "output_type": "stream",
          "text": [
            "True\n"
          ],
          "name": "stdout"
        }
      ]
    },
    {
      "cell_type": "code",
      "metadata": {
        "colab": {
          "base_uri": "https://localhost:8080/"
        },
        "id": "4kDrYbqBBo-f",
        "outputId": "3c509b0e-3bfe-4fe1-eb1f-0bdc6c2c1310"
      },
      "source": [
        "a = [1,2,3]\n",
        "b = [1,2,3]\n",
        "\n",
        "print(id(a))\n",
        "print(id(b))\n",
        "print(id(a)==id(b))\n",
        "print(a is b)"
      ],
      "execution_count": 5,
      "outputs": [
        {
          "output_type": "stream",
          "text": [
            "139905976073664\n",
            "139905899582320\n",
            "False\n",
            "False\n"
          ],
          "name": "stdout"
        }
      ]
    },
    {
      "cell_type": "markdown",
      "metadata": {
        "id": "B9L-2h4WBvuL"
      },
      "source": [
        "**False values:**\n",
        "\n",
        "False\n",
        "\n",
        "None\n",
        "\n",
        "Numerical Zero\n",
        "\n",
        "Any empty sequence. Eg: '', (), []\n",
        "\n",
        "Any empty mapping. Eg: {}"
      ]
    },
    {
      "cell_type": "code",
      "metadata": {
        "colab": {
          "base_uri": "https://localhost:8080/"
        },
        "id": "NSLN7fbWB1uq",
        "outputId": "a6aa4396-6bd0-47a9-d2c0-1d8a76755f5a"
      },
      "source": [
        "condition = 2\n",
        "\n",
        "if condition:\n",
        "    print('Evaluated to True')\n",
        "else:\n",
        "    print('Evaluated to False')"
      ],
      "execution_count": 6,
      "outputs": [
        {
          "output_type": "stream",
          "text": [
            "Evaluated to True\n"
          ],
          "name": "stdout"
        }
      ]
    },
    {
      "cell_type": "markdown",
      "metadata": {
        "id": "usEf_srXB-Hj"
      },
      "source": [
        "**Loops & Iterations - for/while loops:**"
      ]
    },
    {
      "cell_type": "code",
      "metadata": {
        "id": "SkKZ-xuuCCLn"
      },
      "source": [
        "nums = [1,2,3,4,5]"
      ],
      "execution_count": 7,
      "outputs": []
    },
    {
      "cell_type": "code",
      "metadata": {
        "colab": {
          "base_uri": "https://localhost:8080/"
        },
        "id": "QOOpHGNGCIhp",
        "outputId": "6595c075-d4b7-4ee4-82c3-a8f1d664cbdb"
      },
      "source": [
        "for num in nums:\n",
        "    print(num)\n",
        "\n",
        "#Iterates and returns each item using loop"
      ],
      "execution_count": 8,
      "outputs": [
        {
          "output_type": "stream",
          "text": [
            "1\n",
            "2\n",
            "3\n",
            "4\n",
            "5\n"
          ],
          "name": "stdout"
        }
      ]
    },
    {
      "cell_type": "code",
      "metadata": {
        "colab": {
          "base_uri": "https://localhost:8080/"
        },
        "id": "AvdkRW3KCMBn",
        "outputId": "98035101-11b3-4e97-e053-18c8549434d0"
      },
      "source": [
        "for num in nums:\n",
        "    if num == 3:\n",
        "        print('Found!')\n",
        "        break\n",
        "    print(num)\n",
        "    \n",
        "#Breaks out of loop if the item is found"
      ],
      "execution_count": 9,
      "outputs": [
        {
          "output_type": "stream",
          "text": [
            "1\n",
            "2\n",
            "Found!\n"
          ],
          "name": "stdout"
        }
      ]
    },
    {
      "cell_type": "code",
      "metadata": {
        "colab": {
          "base_uri": "https://localhost:8080/"
        },
        "id": "CcP12wY1CQSP",
        "outputId": "1ccc4faf-ee1a-4847-9911-857a5d92f846"
      },
      "source": [
        "for num in nums:\n",
        "    if num == 3:\n",
        "        print('Found!')\n",
        "        continue\n",
        "    print(num)\n",
        "    \n",
        "#Breaks out of loop if the item is found"
      ],
      "execution_count": 10,
      "outputs": [
        {
          "output_type": "stream",
          "text": [
            "1\n",
            "2\n",
            "Found!\n",
            "4\n",
            "5\n"
          ],
          "name": "stdout"
        }
      ]
    },
    {
      "cell_type": "code",
      "metadata": {
        "colab": {
          "base_uri": "https://localhost:8080/"
        },
        "id": "h3lYhjViCU5u",
        "outputId": "ff45b24b-ffdc-46c8-eebf-cdd682f98668"
      },
      "source": [
        "for num in nums:\n",
        "    for letter in 'abc':\n",
        "        print(num,letter)\n",
        "\n",
        "#Nested loop - Loop within a loop"
      ],
      "execution_count": 11,
      "outputs": [
        {
          "output_type": "stream",
          "text": [
            "1 a\n",
            "1 b\n",
            "1 c\n",
            "2 a\n",
            "2 b\n",
            "2 c\n",
            "3 a\n",
            "3 b\n",
            "3 c\n",
            "4 a\n",
            "4 b\n",
            "4 c\n",
            "5 a\n",
            "5 b\n",
            "5 c\n"
          ],
          "name": "stdout"
        }
      ]
    },
    {
      "cell_type": "code",
      "metadata": {
        "colab": {
          "base_uri": "https://localhost:8080/"
        },
        "id": "ewNjwsZICYvq",
        "outputId": "f4845b0d-81ff-462b-ba59-bdf2cffa9a59"
      },
      "source": [
        "for i in range(10):\n",
        "    print(i)\n",
        "\n",
        "#prints 0-9"
      ],
      "execution_count": 12,
      "outputs": [
        {
          "output_type": "stream",
          "text": [
            "0\n",
            "1\n",
            "2\n",
            "3\n",
            "4\n",
            "5\n",
            "6\n",
            "7\n",
            "8\n",
            "9\n"
          ],
          "name": "stdout"
        }
      ]
    },
    {
      "cell_type": "code",
      "metadata": {
        "colab": {
          "base_uri": "https://localhost:8080/"
        },
        "id": "qzEQR7ZBCezc",
        "outputId": "cf4a281a-d94c-4248-8eaf-6b4abbbb4a3b"
      },
      "source": [
        "for i in range(1,11):\n",
        "    print(i)\n",
        "#prints 1-10, taking one step at a moment"
      ],
      "execution_count": 13,
      "outputs": [
        {
          "output_type": "stream",
          "text": [
            "1\n",
            "2\n",
            "3\n",
            "4\n",
            "5\n",
            "6\n",
            "7\n",
            "8\n",
            "9\n",
            "10\n"
          ],
          "name": "stdout"
        }
      ]
    },
    {
      "cell_type": "code",
      "metadata": {
        "colab": {
          "base_uri": "https://localhost:8080/"
        },
        "id": "qWzsL1RaCkeD",
        "outputId": "ee168d74-c923-4182-9485-b0498dc42d70"
      },
      "source": [
        "for i in range(1,21,2):\n",
        "    print(i)\n",
        "#prints 1-19, skipping a value after each iteration"
      ],
      "execution_count": 14,
      "outputs": [
        {
          "output_type": "stream",
          "text": [
            "1\n",
            "3\n",
            "5\n",
            "7\n",
            "9\n",
            "11\n",
            "13\n",
            "15\n",
            "17\n",
            "19\n"
          ],
          "name": "stdout"
        }
      ]
    },
    {
      "cell_type": "code",
      "metadata": {
        "colab": {
          "base_uri": "https://localhost:8080/"
        },
        "id": "m6qLDoLUCn10",
        "outputId": "3c769187-f912-45e9-c108-32134349ba5f"
      },
      "source": [
        "### While loop:\n",
        "x = 0\n",
        "\n",
        "while x < 10:\n",
        "    print(x)\n",
        "    x += 1"
      ],
      "execution_count": 15,
      "outputs": [
        {
          "output_type": "stream",
          "text": [
            "0\n",
            "1\n",
            "2\n",
            "3\n",
            "4\n",
            "5\n",
            "6\n",
            "7\n",
            "8\n",
            "9\n"
          ],
          "name": "stdout"
        }
      ]
    },
    {
      "cell_type": "markdown",
      "metadata": {
        "id": "cvec6svqCtfv"
      },
      "source": [
        "**Functions:**"
      ]
    },
    {
      "cell_type": "code",
      "metadata": {
        "id": "55HRivEICz8F"
      },
      "source": [
        "def hello_func():\n",
        "    pass\n",
        "\n",
        "#pass keywords avoid errors if we want to leave that function for a while \n",
        "#Paranthesis () is where we pass the parameters"
      ],
      "execution_count": 17,
      "outputs": []
    },
    {
      "cell_type": "code",
      "metadata": {
        "id": "IsK-4l_aC6I7"
      },
      "source": [
        "hello_func() # to run the function"
      ],
      "execution_count": 18,
      "outputs": []
    },
    {
      "cell_type": "code",
      "metadata": {
        "colab": {
          "base_uri": "https://localhost:8080/"
        },
        "id": "saiyB7UaC8yn",
        "outputId": "0b54b3e1-dcdf-4891-daae-479d0a905e26"
      },
      "source": [
        "def hello_func():\n",
        "    print('Hello Function!')\n",
        "hello_func()"
      ],
      "execution_count": 19,
      "outputs": [
        {
          "output_type": "stream",
          "text": [
            "Hello Function!\n"
          ],
          "name": "stdout"
        }
      ]
    },
    {
      "cell_type": "markdown",
      "metadata": {
        "id": "12BWL8f7DAFo"
      },
      "source": [
        "**Functions allows to reuse the code just like variable.**\n",
        "\n",
        "**Works as a machine, we give input to get the desirable output**"
      ]
    },
    {
      "cell_type": "code",
      "metadata": {
        "colab": {
          "base_uri": "https://localhost:8080/"
        },
        "id": "qHN-ncwZDFUe",
        "outputId": "846b2cc0-9bc7-4bcd-b1ca-85d4ef3d9f5e"
      },
      "source": [
        "def hello_func():\n",
        "    return 'Hello Function!'\n",
        "hello_func()\n",
        "\n",
        "#When we executes the function, then it's equivalent to the return value\n",
        "#As the return value is a string, then we can use string methods with the function\n",
        "\n",
        "print(hello_func().upper())"
      ],
      "execution_count": 20,
      "outputs": [
        {
          "output_type": "stream",
          "text": [
            "HELLO FUNCTION!\n"
          ],
          "name": "stdout"
        }
      ]
    },
    {
      "cell_type": "code",
      "metadata": {
        "colab": {
          "base_uri": "https://localhost:8080/"
        },
        "id": "ev6-JTmHDCum",
        "outputId": "d20adc1f-edd3-49af-9c08-ef5477f7ad79"
      },
      "source": [
        "# Passing an argument/parameter to the function.\n",
        "\n",
        "def hello_func(greeting):\n",
        "    return '{} Function!'.format(greeting)\n",
        "print(hello_func('Hi'))\n",
        "\n",
        "# greeting variable doesn't affect any variable outside the function. It's scope is local to this function\n",
        "# You can define a variable named greeting, outside the function."
      ],
      "execution_count": 21,
      "outputs": [
        {
          "output_type": "stream",
          "text": [
            "Hi Function!\n"
          ],
          "name": "stdout"
        }
      ]
    },
    {
      "cell_type": "code",
      "metadata": {
        "colab": {
          "base_uri": "https://localhost:8080/"
        },
        "id": "MI2ZKkb-DPeB",
        "outputId": "830a6730-4b4d-48a9-88b6-a75730c6adfa"
      },
      "source": [
        "#Passing two parameters and default values\n",
        "\n",
        "def hello_func(greeting,name='You'):\n",
        "    return '{}, {}!'.format(greeting, name)\n",
        "\n",
        "print(hello_func('Hi','Sanjana'))\n",
        "\n",
        "#You is default value for name parameter"
      ],
      "execution_count": 23,
      "outputs": [
        {
          "output_type": "stream",
          "text": [
            "Hi, Sanjana!\n"
          ],
          "name": "stdout"
        }
      ]
    },
    {
      "cell_type": "code",
      "metadata": {
        "colab": {
          "base_uri": "https://localhost:8080/"
        },
        "id": "6X4AceSCDeBr",
        "outputId": "e1997f3b-0f9c-4ad3-a0d0-8fda5f034704"
      },
      "source": [
        "\n",
        "# Use it when you aren't sure about the numbers of arguments(args) and keyword arguments (kwargs)\n",
        "# args - arguments\n",
        "# kwargs - Keyword arguments\n",
        "\n",
        "def student_info(*args, **kwargs):\n",
        "    print(args)\n",
        "    print(kwargs)\n",
        "\n",
        "print(student_info('Math', 'Art', name = 'sanjana', age = '19'))"
      ],
      "execution_count": 24,
      "outputs": [
        {
          "output_type": "stream",
          "text": [
            "('Math', 'Art')\n",
            "{'name': 'sanjana', 'age': '19'}\n",
            "None\n"
          ],
          "name": "stdout"
        }
      ]
    },
    {
      "cell_type": "code",
      "metadata": {
        "colab": {
          "base_uri": "https://localhost:8080/"
        },
        "id": "W7ztmO-SDpq_",
        "outputId": "1c86d719-7203-4d12-92b0-f1c8c86b5254"
      },
      "source": [
        "# Use it when you aren't sure about the numbers of arguments(args) and keyword arguments (kwargs)\n",
        "# args - arguments\n",
        "# kwargs - Keyword arguments\n",
        "\n",
        "def student_info(*args, **kwargs):\n",
        "    print(args)\n",
        "    print(kwargs)\n",
        "\n",
        "courses = ['Math','Art']\n",
        "info = {'name':'sanjana', 'age':'19'}\n",
        "\n",
        "print(student_info(courses,info))"
      ],
      "execution_count": 26,
      "outputs": [
        {
          "output_type": "stream",
          "text": [
            "(['Math', 'Art'], {'name': 'sanjana', 'age': '19'})\n",
            "{}\n",
            "None\n"
          ],
          "name": "stdout"
        }
      ]
    },
    {
      "cell_type": "markdown",
      "metadata": {
        "id": "PuJUjKKzD2Bf"
      },
      "source": [
        "**& is added to differentiate b/w arguments and keyword arguments**\n",
        "\n",
        "**Let's put everything together and create a program to check if a year is leap or not ¶**"
      ]
    },
    {
      "cell_type": "code",
      "metadata": {
        "colab": {
          "base_uri": "https://localhost:8080/"
        },
        "id": "dvEOxA-mD_2b",
        "outputId": "76fefa7a-7ec7-4d29-812d-4c76d2d9b45e"
      },
      "source": [
        "def month_ui(year,month):\n",
        "\n",
        "    leap=0\n",
        "    if year % 400 == 0:\n",
        "        leap=1\n",
        "    elif year % 100 == 0:\n",
        "        leap = 0\n",
        "    elif year % 4 == 0:\n",
        "        leap = 1\n",
        "    if month == 2:\n",
        "        return 28 + leap\n",
        "    month_list = [1,3,5,7,8,10,12]\n",
        "    if month in month_list:\n",
        "        return 31\n",
        "    else:\n",
        "        return 30\n",
        "\n",
        "year = 2020\n",
        "month = 2\n",
        "print(month_ui(year,month))"
      ],
      "execution_count": 27,
      "outputs": [
        {
          "output_type": "stream",
          "text": [
            "29\n"
          ],
          "name": "stdout"
        }
      ]
    }
  ]
}