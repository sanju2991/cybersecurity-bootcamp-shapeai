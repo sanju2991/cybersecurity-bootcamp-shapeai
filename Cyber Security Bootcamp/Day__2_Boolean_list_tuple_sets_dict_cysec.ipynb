{
  "nbformat": 4,
  "nbformat_minor": 0,
  "metadata": {
    "colab": {
      "name": "Untitled1.ipynb",
      "provenance": []
    },
    "kernelspec": {
      "name": "python3",
      "display_name": "Python 3"
    },
    "language_info": {
      "name": "python"
    }
  },
  "cells": [
    {
      "cell_type": "markdown",
      "metadata": {
        "id": "CSlIG_6eEitU"
      },
      "source": [
        "# **LIST:**"
      ]
    },
    {
      "cell_type": "code",
      "metadata": {
        "id": "VAY9wKydEmzE"
      },
      "source": [
        "subjects = ['History', 'Math', 'Physics', 'CS']"
      ],
      "execution_count": 1,
      "outputs": []
    },
    {
      "cell_type": "code",
      "metadata": {
        "colab": {
          "base_uri": "https://localhost:8080/"
        },
        "id": "N7PlTAtKEts2",
        "outputId": "ccce0f57-fcc1-49bb-993c-46087d777523"
      },
      "source": [
        "print(subjects) \n",
        "#Prints all the elements of the list"
      ],
      "execution_count": 2,
      "outputs": [
        {
          "output_type": "stream",
          "text": [
            "['History', 'Math', 'Physics', 'CS']\n"
          ],
          "name": "stdout"
        }
      ]
    },
    {
      "cell_type": "code",
      "metadata": {
        "colab": {
          "base_uri": "https://localhost:8080/"
        },
        "id": "m-nlpOy4Ex_e",
        "outputId": "0d8ec24a-6dc5-435c-bc65-1bda0d1c5a5e"
      },
      "source": [
        "print(len(subjects))\n",
        "#Prints number of elements in list"
      ],
      "execution_count": 3,
      "outputs": [
        {
          "output_type": "stream",
          "text": [
            "4\n"
          ],
          "name": "stdout"
        }
      ]
    },
    {
      "cell_type": "code",
      "metadata": {
        "colab": {
          "base_uri": "https://localhost:8080/"
        },
        "id": "d1vatwdAE1Rl",
        "outputId": "6295c562-a705-47b1-cb1c-616d19210acc"
      },
      "source": [
        "print(subjects[0])\n",
        "#Prints the 1st element (History)"
      ],
      "execution_count": 4,
      "outputs": [
        {
          "output_type": "stream",
          "text": [
            "History\n"
          ],
          "name": "stdout"
        }
      ]
    },
    {
      "cell_type": "code",
      "metadata": {
        "colab": {
          "base_uri": "https://localhost:8080/"
        },
        "id": "v_0J0-BqE496",
        "outputId": "4c834056-5d72-42b8-a59b-54f4fdcc721f"
      },
      "source": [
        "print(subjects[-1])\n",
        "#Prints the last element (History)"
      ],
      "execution_count": 5,
      "outputs": [
        {
          "output_type": "stream",
          "text": [
            "CS\n"
          ],
          "name": "stdout"
        }
      ]
    },
    {
      "cell_type": "code",
      "metadata": {
        "colab": {
          "base_uri": "https://localhost:8080/"
        },
        "id": "f0uXHPp_E9vc",
        "outputId": "be0b46da-4c23-4f22-9fde-aef7740db657"
      },
      "source": [
        "print(subjects[:2])\n",
        "#Prints the 1st & 2nd element (History)\n",
        "print(subjects[:2])"
      ],
      "execution_count": 6,
      "outputs": [
        {
          "output_type": "stream",
          "text": [
            "['History', 'Math']\n",
            "['History', 'Math']\n"
          ],
          "name": "stdout"
        }
      ]
    },
    {
      "cell_type": "code",
      "metadata": {
        "colab": {
          "base_uri": "https://localhost:8080/"
        },
        "id": "7MkNJl3iFDdA",
        "outputId": "a90fa662-cc7e-4cef-fb0c-a0e8296007f0"
      },
      "source": [
        "subjects.append('DS')\n",
        "#Adds the item at the end of the list\n",
        "print(subjects)"
      ],
      "execution_count": 7,
      "outputs": [
        {
          "output_type": "stream",
          "text": [
            "['History', 'Math', 'Physics', 'CS', 'DS']\n"
          ],
          "name": "stdout"
        }
      ]
    },
    {
      "cell_type": "code",
      "metadata": {
        "colab": {
          "base_uri": "https://localhost:8080/"
        },
        "id": "0yXn7BG9FHpN",
        "outputId": "6bb40c82-2c46-4005-d334-7d780d2203cd"
      },
      "source": [
        "subjects.insert(0,'DBMS')\n",
        "#Adds the item at index 0\n",
        "print(subjects)"
      ],
      "execution_count": 8,
      "outputs": [
        {
          "output_type": "stream",
          "text": [
            "['DBMS', 'History', 'Math', 'Physics', 'CS', 'DS']\n"
          ],
          "name": "stdout"
        }
      ]
    },
    {
      "cell_type": "code",
      "metadata": {
        "id": "qac6nKlFFK_j"
      },
      "source": [
        "subjects_2 = ['Art', 'Design', 'Chemistry']"
      ],
      "execution_count": 9,
      "outputs": []
    },
    {
      "cell_type": "code",
      "metadata": {
        "id": "01L5X78zFN8M"
      },
      "source": [
        "#subjects.insert(0,subjects_2)\n",
        "#print(subjects)\n",
        "#Let's try to add elements of subject_2 to subjects\n",
        "#it got added as a seperate list in element 0, rather than splitting the items in subject_2 then adding them"
      ],
      "execution_count": 10,
      "outputs": []
    },
    {
      "cell_type": "code",
      "metadata": {
        "colab": {
          "base_uri": "https://localhost:8080/"
        },
        "id": "lhCWBtD1FR1q",
        "outputId": "6902a910-5ad1-453d-916f-37d0f092f9ec"
      },
      "source": [
        "subjects.extend(subjects_2)\n",
        "print(subjects)\n",
        "#Adds each element seperately to subject_2 at the end of the list"
      ],
      "execution_count": 11,
      "outputs": [
        {
          "output_type": "stream",
          "text": [
            "['DBMS', 'History', 'Math', 'Physics', 'CS', 'DS', 'Art', 'Design', 'Chemistry']\n"
          ],
          "name": "stdout"
        }
      ]
    },
    {
      "cell_type": "code",
      "metadata": {
        "colab": {
          "base_uri": "https://localhost:8080/"
        },
        "id": "D6npjCfrFVBV",
        "outputId": "55cd8e92-2083-4124-f93e-6947ebd95116"
      },
      "source": [
        "subjects.remove('Math')\n",
        "#Finds & Removes Math from the list\n",
        "print(subjects)"
      ],
      "execution_count": 12,
      "outputs": [
        {
          "output_type": "stream",
          "text": [
            "['DBMS', 'History', 'Physics', 'CS', 'DS', 'Art', 'Design', 'Chemistry']\n"
          ],
          "name": "stdout"
        }
      ]
    },
    {
      "cell_type": "code",
      "metadata": {
        "colab": {
          "base_uri": "https://localhost:8080/"
        },
        "id": "9MvO7sr3FX5T",
        "outputId": "8231e793-5d61-4a14-becf-d4a2ca8df4c6"
      },
      "source": [
        "popped = subjects.pop()\n",
        "#Removes the last item in the list\n",
        "\n",
        "print(subjects)\n",
        "\n",
        "print(popped)\n",
        "#Grabs the popped item"
      ],
      "execution_count": 13,
      "outputs": [
        {
          "output_type": "stream",
          "text": [
            "['DBMS', 'History', 'Physics', 'CS', 'DS', 'Art', 'Design']\n",
            "Chemistry\n"
          ],
          "name": "stdout"
        }
      ]
    },
    {
      "cell_type": "code",
      "metadata": {
        "colab": {
          "base_uri": "https://localhost:8080/"
        },
        "id": "7s5CqepmFcYa",
        "outputId": "32d4d5c9-b792-4db5-ccdd-8d46fabc9570"
      },
      "source": [
        "subjects.reverse()\n",
        "#Reverses the list\n",
        "print(subjects)"
      ],
      "execution_count": 14,
      "outputs": [
        {
          "output_type": "stream",
          "text": [
            "['Design', 'Art', 'DS', 'CS', 'Physics', 'History', 'DBMS']\n"
          ],
          "name": "stdout"
        }
      ]
    },
    {
      "cell_type": "code",
      "metadata": {
        "colab": {
          "base_uri": "https://localhost:8080/"
        },
        "id": "lhlxQj8SFknB",
        "outputId": "d8b571a8-86fc-4a64-aa16-9cad61a5472e"
      },
      "source": [
        "subjects.sort()\n",
        "#Sorts the list in alphabetical order\n",
        "print(subjects)\n",
        "\n",
        "num_list = [2,6,4,5,3,1]\n",
        "num_list.sort()\n",
        "print(num_list)"
      ],
      "execution_count": 15,
      "outputs": [
        {
          "output_type": "stream",
          "text": [
            "['Art', 'CS', 'DBMS', 'DS', 'Design', 'History', 'Physics']\n",
            "[1, 2, 3, 4, 5, 6]\n"
          ],
          "name": "stdout"
        }
      ]
    },
    {
      "cell_type": "code",
      "metadata": {
        "colab": {
          "base_uri": "https://localhost:8080/"
        },
        "id": "6_TlRkWFFoi0",
        "outputId": "c462e474-f2d6-497b-a9c0-85e1cd61d301"
      },
      "source": [
        "print(min(num_list))\n",
        "print(max(num_list))\n",
        "print(sum(num_list))"
      ],
      "execution_count": 16,
      "outputs": [
        {
          "output_type": "stream",
          "text": [
            "1\n",
            "6\n",
            "21\n"
          ],
          "name": "stdout"
        }
      ]
    },
    {
      "cell_type": "code",
      "metadata": {
        "colab": {
          "base_uri": "https://localhost:8080/"
        },
        "id": "H7XhdpRwFsvX",
        "outputId": "7a3119fd-1c57-4d8a-8334-e95d3c91f4e0"
      },
      "source": [
        "print(subjects.index('CS'))\n",
        "#Returns the index value of the item"
      ],
      "execution_count": 17,
      "outputs": [
        {
          "output_type": "stream",
          "text": [
            "1\n"
          ],
          "name": "stdout"
        }
      ]
    },
    {
      "cell_type": "code",
      "metadata": {
        "colab": {
          "base_uri": "https://localhost:8080/"
        },
        "id": "ad8xUZcQFwE4",
        "outputId": "b7006a51-8c17-4ca1-df68-785269ff717d"
      },
      "source": [
        "print('Art' in subjects)\n",
        "#Checks weather the item is present in the list or not"
      ],
      "execution_count": 18,
      "outputs": [
        {
          "output_type": "stream",
          "text": [
            "True\n"
          ],
          "name": "stdout"
        }
      ]
    },
    {
      "cell_type": "code",
      "metadata": {
        "colab": {
          "base_uri": "https://localhost:8080/"
        },
        "id": "-Z4o0MUmFzB-",
        "outputId": "40b90798-b5dd-426f-d091-bbace914a9ac"
      },
      "source": [
        "for item in subjects:\n",
        "    print(item)\n",
        "#Prints each item in new line"
      ],
      "execution_count": 19,
      "outputs": [
        {
          "output_type": "stream",
          "text": [
            "Art\n",
            "CS\n",
            "DBMS\n",
            "DS\n",
            "Design\n",
            "History\n",
            "Physics\n"
          ],
          "name": "stdout"
        }
      ]
    },
    {
      "cell_type": "code",
      "metadata": {
        "colab": {
          "base_uri": "https://localhost:8080/"
        },
        "id": "_JBUUUnyF2nW",
        "outputId": "25a6d31f-9094-4c72-e96c-a83b04b350d9"
      },
      "source": [
        "for index,subject in enumerate(subjects):\n",
        "    print(index,subject)\n",
        "#Print the items along with index numbers starting from 0. this is done by enumerate() function"
      ],
      "execution_count": 20,
      "outputs": [
        {
          "output_type": "stream",
          "text": [
            "0 Art\n",
            "1 CS\n",
            "2 DBMS\n",
            "3 DS\n",
            "4 Design\n",
            "5 History\n",
            "6 Physics\n"
          ],
          "name": "stdout"
        }
      ]
    },
    {
      "cell_type": "code",
      "metadata": {
        "colab": {
          "base_uri": "https://localhost:8080/"
        },
        "id": "q0fpPjwsF7JN",
        "outputId": "ae32da77-b5f4-4552-da8e-5421e655b22b"
      },
      "source": [
        "for index,subject in enumerate(subjects,start=1):\n",
        "    print(index, subject)\n",
        "#Print the items along with index numbers starting from 1. this is done by enumerate() function"
      ],
      "execution_count": 21,
      "outputs": [
        {
          "output_type": "stream",
          "text": [
            "1 Art\n",
            "2 CS\n",
            "3 DBMS\n",
            "4 DS\n",
            "5 Design\n",
            "6 History\n",
            "7 Physics\n"
          ],
          "name": "stdout"
        }
      ]
    },
    {
      "cell_type": "code",
      "metadata": {
        "colab": {
          "base_uri": "https://localhost:8080/"
        },
        "id": "2mGy9LRiGAJa",
        "outputId": "82c337b4-4543-421f-b0a4-041c8d054b19"
      },
      "source": [
        "subject_str = ' - '.join(subjects)\n",
        "print(subject_str)\n",
        "#turns list into '-' seperated string"
      ],
      "execution_count": 22,
      "outputs": [
        {
          "output_type": "stream",
          "text": [
            "Art - CS - DBMS - DS - Design - History - Physics\n"
          ],
          "name": "stdout"
        }
      ]
    },
    {
      "cell_type": "code",
      "metadata": {
        "colab": {
          "base_uri": "https://localhost:8080/"
        },
        "id": "3iBOIWXqGDn3",
        "outputId": "b6535138-8d37-4f45-e0c9-d6849aecf4c6"
      },
      "source": [
        "new_list = subject_str.split('-')\n",
        "print(new_list)\n",
        "#Creates the list, just reverse of .join()"
      ],
      "execution_count": 23,
      "outputs": [
        {
          "output_type": "stream",
          "text": [
            "['Art ', ' CS ', ' DBMS ', ' DS ', ' Design ', ' History ', ' Physics']\n"
          ],
          "name": "stdout"
        }
      ]
    },
    {
      "cell_type": "markdown",
      "metadata": {
        "id": "ZXmPDpTiGGyd"
      },
      "source": [
        "# **Tuple:**\n",
        "\n",
        "Doesn't have much supported functions as of list because tuple is immutable"
      ]
    },
    {
      "cell_type": "code",
      "metadata": {
        "id": "dKstk2wxGJmG"
      },
      "source": [
        "tup_1 = ('History', 'Math', 'Physics', 'CS')"
      ],
      "execution_count": 24,
      "outputs": []
    },
    {
      "cell_type": "code",
      "metadata": {
        "colab": {
          "base_uri": "https://localhost:8080/",
          "height": 163
        },
        "id": "3yZ7kNYmGOeZ",
        "outputId": "ac898158-e6aa-4cc3-d700-acecc3b2a9f8"
      },
      "source": [
        "tup_1[0] = 'Art'"
      ],
      "execution_count": 25,
      "outputs": [
        {
          "output_type": "error",
          "ename": "TypeError",
          "evalue": "ignored",
          "traceback": [
            "\u001b[0;31m---------------------------------------------------------------------------\u001b[0m",
            "\u001b[0;31mTypeError\u001b[0m                                 Traceback (most recent call last)",
            "\u001b[0;32m<ipython-input-25-20f41ff68d0f>\u001b[0m in \u001b[0;36m<module>\u001b[0;34m()\u001b[0m\n\u001b[0;32m----> 1\u001b[0;31m \u001b[0mtup_1\u001b[0m\u001b[0;34m[\u001b[0m\u001b[0;36m0\u001b[0m\u001b[0;34m]\u001b[0m \u001b[0;34m=\u001b[0m \u001b[0;34m'Art'\u001b[0m\u001b[0;34m\u001b[0m\u001b[0;34m\u001b[0m\u001b[0m\n\u001b[0m",
            "\u001b[0;31mTypeError\u001b[0m: 'tuple' object does not support item assignment"
          ]
        }
      ]
    },
    {
      "cell_type": "code",
      "metadata": {
        "colab": {
          "base_uri": "https://localhost:8080/"
        },
        "id": "AAgtvZxOGV6n",
        "outputId": "f2a3487f-05ca-4d41-b9ef-b7c6a3259bc4"
      },
      "source": [
        "print(tup_1)"
      ],
      "execution_count": 26,
      "outputs": [
        {
          "output_type": "stream",
          "text": [
            "('History', 'Math', 'Physics', 'CS')\n"
          ],
          "name": "stdout"
        }
      ]
    },
    {
      "cell_type": "code",
      "metadata": {
        "id": "wrTUT_ziGahs"
      },
      "source": [
        "#Only supports that functions that doesn't mutate the list"
      ],
      "execution_count": 27,
      "outputs": []
    },
    {
      "cell_type": "markdown",
      "metadata": {
        "id": "FIuE_hL0GeGn"
      },
      "source": [
        "# **SETS:**\n",
        "\n",
        "Doesn't care about order & dumps away duplicate item"
      ]
    },
    {
      "cell_type": "code",
      "metadata": {
        "id": "otvKBx00Gj-j"
      },
      "source": [
        "cs_courses = {'DS','DBMS','History','Math','Physics'}"
      ],
      "execution_count": 28,
      "outputs": []
    },
    {
      "cell_type": "code",
      "metadata": {
        "id": "ZdC0Tl-jGmdK"
      },
      "source": [
        "#Changes order every time the code executes"
      ],
      "execution_count": 29,
      "outputs": []
    },
    {
      "cell_type": "code",
      "metadata": {
        "colab": {
          "base_uri": "https://localhost:8080/"
        },
        "id": "NNQHrIBTGpwX",
        "outputId": "35d7a78b-0485-4653-a85f-fba58471c53b"
      },
      "source": [
        "print('Math' in cs_courses)\n",
        "#Checks membership in the set"
      ],
      "execution_count": 30,
      "outputs": [
        {
          "output_type": "stream",
          "text": [
            "True\n"
          ],
          "name": "stdout"
        }
      ]
    },
    {
      "cell_type": "code",
      "metadata": {
        "id": "WqIcKt2MGstr"
      },
      "source": [
        "art_courses = {'History','Math','Art','Design'}"
      ],
      "execution_count": 31,
      "outputs": []
    },
    {
      "cell_type": "code",
      "metadata": {
        "colab": {
          "base_uri": "https://localhost:8080/"
        },
        "id": "JMYUIvroGvbW",
        "outputId": "6e12e478-9009-4d17-83e6-1cbcbf7ef1ad"
      },
      "source": [
        "print(cs_courses.intersection(art_courses))\n",
        "#Returns common items in both sets"
      ],
      "execution_count": 32,
      "outputs": [
        {
          "output_type": "stream",
          "text": [
            "{'History', 'Math'}\n"
          ],
          "name": "stdout"
        }
      ]
    },
    {
      "cell_type": "code",
      "metadata": {
        "colab": {
          "base_uri": "https://localhost:8080/"
        },
        "id": "WezfsP4_Gya0",
        "outputId": "fc6b34e4-636c-43e4-8574-2120160f8fc1"
      },
      "source": [
        "print(cs_courses.difference(art_courses))\n",
        "\n",
        "#Returns the items not present in second set"
      ],
      "execution_count": 33,
      "outputs": [
        {
          "output_type": "stream",
          "text": [
            "{'DS', 'DBMS', 'Physics'}\n"
          ],
          "name": "stdout"
        }
      ]
    },
    {
      "cell_type": "code",
      "metadata": {
        "colab": {
          "base_uri": "https://localhost:8080/"
        },
        "id": "FQf3wRUSG3oo",
        "outputId": "23e0a648-8cea-4c32-89d2-150816ba4714"
      },
      "source": [
        "print(cs_courses.union(art_courses))\n",
        "\n",
        "#Prints all the items from both sets dropping the duplicate items in a new set"
      ],
      "execution_count": 34,
      "outputs": [
        {
          "output_type": "stream",
          "text": [
            "{'History', 'Design', 'DBMS', 'Physics', 'Math', 'Art', 'DS'}\n"
          ],
          "name": "stdout"
        }
      ]
    },
    {
      "cell_type": "code",
      "metadata": {
        "id": "LOkgHdrDG69Z"
      },
      "source": [
        "#Empty List\n",
        "empty_list = []\n",
        "empty_list = list()"
      ],
      "execution_count": 35,
      "outputs": []
    },
    {
      "cell_type": "code",
      "metadata": {
        "id": "YXx8LIOVG-Mb"
      },
      "source": [
        "#Empty Tuples\n",
        "empty_tuple = ()\n",
        "empty_tuple = tuple()"
      ],
      "execution_count": 36,
      "outputs": []
    },
    {
      "cell_type": "code",
      "metadata": {
        "id": "MAJGOArhHCoh"
      },
      "source": [
        "#Empty sets\n",
        "empty_set = {} #This will create an empty dictionary instead of empty sets\n",
        "empty_set = set()"
      ],
      "execution_count": 37,
      "outputs": []
    },
    {
      "cell_type": "markdown",
      "metadata": {
        "id": "gTJkHn-fHFl1"
      },
      "source": [
        "# **Dictionary:-**\n",
        "\n",
        "Playing with Key:Value pairs"
      ]
    },
    {
      "cell_type": "code",
      "metadata": {
        "id": "GovfgbJ9HIZQ"
      },
      "source": [
        "student = {'name':'sanjana', 'age':19, 'course':['Math','Physics']}"
      ],
      "execution_count": 41,
      "outputs": []
    },
    {
      "cell_type": "code",
      "metadata": {
        "colab": {
          "base_uri": "https://localhost:8080/"
        },
        "id": "X7GtUimxHOna",
        "outputId": "a8f99c9c-26b1-4de9-9670-fbe9b91f9b79"
      },
      "source": [
        "print(student) \n",
        "#prints dictionary with keys & values"
      ],
      "execution_count": 42,
      "outputs": [
        {
          "output_type": "stream",
          "text": [
            "{'name': 'sanjana', 'age': 19, 'course': ['Math', 'Physics']}\n"
          ],
          "name": "stdout"
        }
      ]
    },
    {
      "cell_type": "code",
      "metadata": {
        "colab": {
          "base_uri": "https://localhost:8080/"
        },
        "id": "U-nKwjLQHRe_",
        "outputId": "7cb486cd-6194-46f9-c523-bee1c2348b03"
      },
      "source": [
        "print(student['name'])\n",
        "#Prints values of specified key & gives error on the absence of the key"
      ],
      "execution_count": 43,
      "outputs": [
        {
          "output_type": "stream",
          "text": [
            "sanjana\n"
          ],
          "name": "stdout"
        }
      ]
    },
    {
      "cell_type": "code",
      "metadata": {
        "colab": {
          "base_uri": "https://localhost:8080/"
        },
        "id": "t9ktY7_OHU1D",
        "outputId": "3a5c3968-40d2-48cc-918e-b8639f0880a3"
      },
      "source": [
        "print(student.get('phone'))\n",
        "#Prints values of specified key & doesn't gives error on the absence of the key"
      ],
      "execution_count": 44,
      "outputs": [
        {
          "output_type": "stream",
          "text": [
            "None\n"
          ],
          "name": "stdout"
        }
      ]
    },
    {
      "cell_type": "code",
      "metadata": {
        "id": "K4zzfBIFHme8"
      },
      "source": [
        "#Let's add a phone no to our dictionary\n",
        "student['phone'] = '999-9999'"
      ],
      "execution_count": 46,
      "outputs": []
    },
    {
      "cell_type": "code",
      "metadata": {
        "colab": {
          "base_uri": "https://localhost:8080/"
        },
        "id": "c3zok2aoHrZO",
        "outputId": "b7ffc7c4-0316-4f70-bcb6-36a7e0ce0ffa"
      },
      "source": [
        "student['name'] = 'sanjana'\n",
        "print(student)\n",
        "#update a key"
      ],
      "execution_count": 47,
      "outputs": [
        {
          "output_type": "stream",
          "text": [
            "{'name': 'sanjana', 'age': 19, 'course': ['Math', 'Physics'], 'phone': '999-9999'}\n"
          ],
          "name": "stdout"
        }
      ]
    },
    {
      "cell_type": "code",
      "metadata": {
        "colab": {
          "base_uri": "https://localhost:8080/"
        },
        "id": "xr1Tj1oxHxWG",
        "outputId": "46ba6d14-b9c0-49fa-c458-a0e0036e33c6"
      },
      "source": [
        "#Updating various keys in a single line of code\n",
        "\n",
        "student.update({'name':'sanjana',\n",
        "               'age': 19,\n",
        "               'phone': '1111-1112222'})\n",
        "print(student)"
      ],
      "execution_count": 48,
      "outputs": [
        {
          "output_type": "stream",
          "text": [
            "{'name': 'sanjana', 'age': 19, 'course': ['Math', 'Physics'], 'phone': '1111-1112222'}\n"
          ],
          "name": "stdout"
        }
      ]
    },
    {
      "cell_type": "code",
      "metadata": {
        "colab": {
          "base_uri": "https://localhost:8080/"
        },
        "id": "fHnMg-LhH6tN",
        "outputId": "1f1fcdcb-f661-4d0c-c27e-237c6e930f1e"
      },
      "source": [
        "#Prints keys from the dictionary\n",
        "\n",
        "print(student.keys())"
      ],
      "execution_count": 49,
      "outputs": [
        {
          "output_type": "stream",
          "text": [
            "dict_keys(['name', 'age', 'course', 'phone'])\n"
          ],
          "name": "stdout"
        }
      ]
    },
    {
      "cell_type": "code",
      "metadata": {
        "colab": {
          "base_uri": "https://localhost:8080/"
        },
        "id": "PGnRk5xeH-Go",
        "outputId": "ff2fd841-1aa1-4a39-eb1c-2ae4e9127061"
      },
      "source": [
        "#Prints valuess from the dictionary\n",
        "\n",
        "print(student.values())"
      ],
      "execution_count": 50,
      "outputs": [
        {
          "output_type": "stream",
          "text": [
            "dict_values(['sanjana', 19, ['Math', 'Physics'], '1111-1112222'])\n"
          ],
          "name": "stdout"
        }
      ]
    },
    {
      "cell_type": "code",
      "metadata": {
        "colab": {
          "base_uri": "https://localhost:8080/"
        },
        "id": "_-C80kmEIDHj",
        "outputId": "968fb6cb-88d1-45cd-dd73-445f5aa56fcb"
      },
      "source": [
        "#Iterates and prints only keys from the dictionary\n",
        "\n",
        "for key in student:\n",
        "    print(key)"
      ],
      "execution_count": 51,
      "outputs": [
        {
          "output_type": "stream",
          "text": [
            "name\n",
            "age\n",
            "course\n",
            "phone\n"
          ],
          "name": "stdout"
        }
      ]
    }
  ]
}