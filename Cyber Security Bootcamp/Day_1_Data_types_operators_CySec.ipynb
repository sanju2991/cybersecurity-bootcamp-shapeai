{
  "nbformat": 4,
  "nbformat_minor": 0,
  "metadata": {
    "colab": {
      "name": "Untitled0.ipynb",
      "provenance": []
    },
    "kernelspec": {
      "name": "python3",
      "display_name": "Python 3"
    },
    "language_info": {
      "name": "python"
    }
  },
  "cells": [
    {
      "cell_type": "markdown",
      "metadata": {
        "id": "YyLMKVyA6uwK"
      },
      "source": [
        "# **Data Types and Operators**\n",
        "**Welcome to this lesson on Data Types and Operators! You'll learn about:**\n",
        "\n",
        "* **Data Types:**\n",
        "\n",
        "  Strings, Integers, Floats, Booleans, Lists, Tuples, Sets, Dictionaries\n",
        "\n",
        "* **Operators:**\n",
        "\n",
        " Arithmetic, Assignment, Comparison, Logical, Membership, Identity\n",
        "\n",
        "* Built-In Functions, Compound Data Structures, Type Conversion\n",
        "\n",
        "# **Strings:**"
      ]
    },
    {
      "cell_type": "code",
      "metadata": {
        "id": "1vqXPex76FVu"
      },
      "source": [
        "#String: Enclosed textual data within quotes\n",
        "var_1 = 'Hello World!'\n",
        "var_2 = \"Youtube is Google's video streaming platform\""
      ],
      "execution_count": 2,
      "outputs": []
    },
    {
      "cell_type": "code",
      "metadata": {
        "colab": {
          "base_uri": "https://localhost:8080/"
        },
        "id": "JxRmlume77j9",
        "outputId": "a2c7a45f-f27a-4749-80f9-c8cc50f45fc0"
      },
      "source": [
        "print(var_1)\n",
        "#Prints the value of variable"
      ],
      "execution_count": 3,
      "outputs": [
        {
          "output_type": "stream",
          "text": [
            "Hello World!\n"
          ],
          "name": "stdout"
        }
      ]
    },
    {
      "cell_type": "code",
      "metadata": {
        "colab": {
          "base_uri": "https://localhost:8080/"
        },
        "id": "IS9uPCnF8Aia",
        "outputId": "467de217-912d-460d-944c-e240bdc72328"
      },
      "source": [
        "print(len(var_1))\n",
        "#Prints the length of variable"
      ],
      "execution_count": 4,
      "outputs": [
        {
          "output_type": "stream",
          "text": [
            "12\n"
          ],
          "name": "stdout"
        }
      ]
    },
    {
      "cell_type": "code",
      "metadata": {
        "colab": {
          "base_uri": "https://localhost:8080/"
        },
        "id": "EPXTALvC8FCT",
        "outputId": "47af22d3-84d5-4fa0-cb72-aa5056a9965c"
      },
      "source": [
        "#In python, Indexing starts from 0,1,2,3\n",
        "print(var_1[10])\n",
        "#prints character at index 10"
      ],
      "execution_count": 5,
      "outputs": [
        {
          "output_type": "stream",
          "text": [
            "d\n"
          ],
          "name": "stdout"
        }
      ]
    },
    {
      "cell_type": "code",
      "metadata": {
        "colab": {
          "base_uri": "https://localhost:8080/"
        },
        "id": "n0Gk1KSM8LEN",
        "outputId": "cdffa736-8539-488c-90ea-799d1afaa549"
      },
      "source": [
        "\n",
        "print(var_1[0:5])\n",
        "#prints character index 0-4 but 5 isn't included"
      ],
      "execution_count": 6,
      "outputs": [
        {
          "output_type": "stream",
          "text": [
            "Hello\n"
          ],
          "name": "stdout"
        }
      ]
    },
    {
      "cell_type": "code",
      "metadata": {
        "colab": {
          "base_uri": "https://localhost:8080/"
        },
        "id": "2HJhxTi78Vju",
        "outputId": "6974669e-61b8-4076-e2fe-13aa17920c8b"
      },
      "source": [
        "print(var_1[6:])\n",
        "#prints character index 6-last index"
      ],
      "execution_count": 7,
      "outputs": [
        {
          "output_type": "stream",
          "text": [
            "World!\n"
          ],
          "name": "stdout"
        }
      ]
    },
    {
      "cell_type": "code",
      "metadata": {
        "colab": {
          "base_uri": "https://localhost:8080/"
        },
        "id": "xvKzX_398ZzI",
        "outputId": "50bdedfa-0747-44cc-e8b1-ccb881ac42cd"
      },
      "source": [
        "print(var_1.lower()) #Prints strings in lower case"
      ],
      "execution_count": 8,
      "outputs": [
        {
          "output_type": "stream",
          "text": [
            "hello world!\n"
          ],
          "name": "stdout"
        }
      ]
    },
    {
      "cell_type": "code",
      "metadata": {
        "colab": {
          "base_uri": "https://localhost:8080/"
        },
        "id": "s6D-q8hM8eVF",
        "outputId": "be085d16-a780-4189-9390-0eacc150a9b0"
      },
      "source": [
        "print(var_1.upper()) #Prints strings in upper case"
      ],
      "execution_count": 9,
      "outputs": [
        {
          "output_type": "stream",
          "text": [
            "HELLO WORLD!\n"
          ],
          "name": "stdout"
        }
      ]
    },
    {
      "cell_type": "code",
      "metadata": {
        "colab": {
          "base_uri": "https://localhost:8080/"
        },
        "id": "2YT0sHms8jnC",
        "outputId": "5c50af80-fdf9-483c-c4df-cb391523e374"
      },
      "source": [
        "greeting = 'hello'\n",
        "name = 'chirag murari'\n",
        "\n",
        "message_1 = greeting+', '+name+'. Welcome!' #String concatenation\n",
        "message_2 = '{}, {}. Welcome!'.format(greeting,name)\n",
        "\n",
        "print(message_1)\n",
        "print(message_2)"
      ],
      "execution_count": 10,
      "outputs": [
        {
          "output_type": "stream",
          "text": [
            "hello, chirag murari. Welcome!\n",
            "hello, chirag murari. Welcome!\n"
          ],
          "name": "stdout"
        }
      ]
    },
    {
      "cell_type": "code",
      "metadata": {
        "id": "dNW9Fkuk89yX"
      },
      "source": [
        "#Variable naming conventions\n",
        "#Allowed variable names\n",
        "\n",
        "x=2\n",
        "y=\"Hello\"\n",
        "mypython=\"PythonGuides\"\n",
        "my_python=\"PythonGuides\"\n",
        "_my_python=\"PythonGuides\"\n",
        "_mypython=\"PythonGuides\"\n",
        "MYPYTHON=\"PythonGuides\"\n",
        "myPython=\"PythonGuides\"\n",
        "myPython7=\"PythonGuides\""
      ],
      "execution_count": 12,
      "outputs": []
    },
    {
      "cell_type": "code",
      "metadata": {
        "colab": {
          "base_uri": "https://localhost:8080/",
          "height": 129
        },
        "id": "WedUvMxO9IDv",
        "outputId": "40a320d5-f7ea-4987-ed0f-180112fbc7d7"
      },
      "source": [
        "#Variable name not Allowed\n",
        "\n",
        "7mypython=\"PythonGuides\"\n",
        "-mypython=\"PythonGuides\"\n",
        "myPy@thon=\"PythonGuides\"\n",
        "my Python=\"PythonGuides\"\n",
        "for=\"PythonGuides\"\n",
        "\n",
        "#It shows invalid syntax. \n",
        "#It will execute one by one and will show the error"
      ],
      "execution_count": 13,
      "outputs": [
        {
          "output_type": "error",
          "ename": "SyntaxError",
          "evalue": "ignored",
          "traceback": [
            "\u001b[0;36m  File \u001b[0;32m\"<ipython-input-13-d33b0404d743>\"\u001b[0;36m, line \u001b[0;32m3\u001b[0m\n\u001b[0;31m    7mypython=\"PythonGuides\"\u001b[0m\n\u001b[0m            ^\u001b[0m\n\u001b[0;31mSyntaxError\u001b[0m\u001b[0;31m:\u001b[0m invalid syntax\n"
          ]
        }
      ]
    },
    {
      "cell_type": "code",
      "metadata": {
        "colab": {
          "base_uri": "https://localhost:8080/"
        },
        "id": "VK_gwyht9sqw",
        "outputId": "d3e26d79-afa4-4542-a2a8-ed928ab98518"
      },
      "source": [
        "#integers and floats\n",
        "abs(-11) #Returns absolute value of integer data"
      ],
      "execution_count": 19,
      "outputs": [
        {
          "output_type": "execute_result",
          "data": {
            "text/plain": [
              "11"
            ]
          },
          "metadata": {
            "tags": []
          },
          "execution_count": 19
        }
      ]
    },
    {
      "cell_type": "code",
      "metadata": {
        "colab": {
          "base_uri": "https://localhost:8080/"
        },
        "id": "tYBLy_VP90j5",
        "outputId": "2e9f3465-4cf4-465b-b4b4-d756cbd7b0e5"
      },
      "source": [
        "num = 1\n",
        "num = num+1\n",
        "num += 1\n",
        "print(num)"
      ],
      "execution_count": 15,
      "outputs": [
        {
          "output_type": "stream",
          "text": [
            "3\n"
          ],
          "name": "stdout"
        }
      ]
    },
    {
      "cell_type": "code",
      "metadata": {
        "colab": {
          "base_uri": "https://localhost:8080/"
        },
        "id": "rq7xagDI97WN",
        "outputId": "2cb451e3-3017-481e-d8c8-a355c8bf67fe"
      },
      "source": [
        "round(8.63) # round to nearest integer"
      ],
      "execution_count": 16,
      "outputs": [
        {
          "output_type": "execute_result",
          "data": {
            "text/plain": [
              "9"
            ]
          },
          "metadata": {
            "tags": []
          },
          "execution_count": 16
        }
      ]
    },
    {
      "cell_type": "code",
      "metadata": {
        "colab": {
          "base_uri": "https://localhost:8080/"
        },
        "id": "WgjzvDzy-AUu",
        "outputId": "bc57eddd-2bd5-462c-9ea4-835e7b08f3e0"
      },
      "source": [
        "round(8.63,1) #rounds till first decimal point"
      ],
      "execution_count": 17,
      "outputs": [
        {
          "output_type": "execute_result",
          "data": {
            "text/plain": [
              "8.6"
            ]
          },
          "metadata": {
            "tags": []
          },
          "execution_count": 17
        }
      ]
    },
    {
      "cell_type": "code",
      "metadata": {
        "colab": {
          "base_uri": "https://localhost:8080/"
        },
        "id": "JSSO5Mo7-MBO",
        "outputId": "8687ece6-0e73-4ed6-a685-2d97c6ae2c2e"
      },
      "source": [
        "#Comparison Operators\n",
        "num_1 = 7\n",
        "num_2 = 5\n",
        "print(num_1 == num_2)"
      ],
      "execution_count": 18,
      "outputs": [
        {
          "output_type": "stream",
          "text": [
            "False\n"
          ],
          "name": "stdout"
        }
      ]
    }
  ]
}